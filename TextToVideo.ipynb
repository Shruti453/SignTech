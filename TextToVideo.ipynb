{
 "cells": [
  {
   "cell_type": "code",
   "execution_count": 1,
   "id": "0ffc6f49",
   "metadata": {},
   "outputs": [],
   "source": [
    "import cv2\n",
    "import os"
   ]
  },
  {
   "cell_type": "code",
   "execution_count": 2,
   "id": "e8f927b4",
   "metadata": {},
   "outputs": [],
   "source": [
    "cwd = os.getcwd()"
   ]
  },
  {
   "cell_type": "code",
   "execution_count": 3,
   "id": "03f8f7e7",
   "metadata": {},
   "outputs": [
    {
     "data": {
      "text/plain": [
       "'d:\\\\sem6\\\\Machine Learning\\\\Project\\\\SignTech-1\\\\TextToVideo'"
      ]
     },
     "execution_count": 3,
     "metadata": {},
     "output_type": "execute_result"
    }
   ],
   "source": [
    "cwd"
   ]
  },
  {
   "cell_type": "code",
   "execution_count": 8,
   "id": "c791ba2f",
   "metadata": {},
   "outputs": [],
   "source": [
    "def text_to_video(string):\n",
    "    string = string.upper()\n",
    "    string_display = \"\"\n",
    "    img_array = []\n",
    "    \n",
    "    for ch in string:\n",
<<<<<<< HEAD
    "        string_display += ch\n",
    "        if ch == \" \":   \n",
=======
    "        \n",
    "\n",
    "\n",
    "\n",
    "        \n",
    "        string_display += ch\n",
    "        if ch == \" \":\n",
    "            \n",
>>>>>>> 616d89b49875c56ecf8a5ac8a555038fe104fa38
    "            ch = \"Space\"\n",
    "        img = cv2.imread(cwd + '//data//ASL_Dataset//Test//'+ch+\"//\"+'3001.jpg', cv2.IMREAD_COLOR)\n",
    "        cv2.putText(img=img, text=string_display, org=(20, 370), fontFace=cv2.FONT_HERSHEY_TRIPLEX, fontScale=1, color=(255, 255,255),thickness=1)\n",
    "        img_array.append(img)\n",
    "        height, width, layers = img.shape\n",
    "        size = (width,height)\n",
    "    out = cv2.VideoWriter('project.avi',cv2.VideoWriter_fourcc(*'DIVX'), 3, size)\n",
    " \n",
    "    for i in range(len(img_array)):\n",
    "        out.write(img_array[i])\n",
    "    out.release()"
   ]
  },
  {
   "cell_type": "code",
   "execution_count": 10,
   "id": "5e3a9ea7",
   "metadata": {},
   "outputs": [],
   "source": [
    "text_to_video(\"Hello vivek sir\")"
   ]
  },
  {
   "cell_type": "code",
   "execution_count": 11,
   "id": "d0667282",
   "metadata": {},
   "outputs": [],
   "source": [
    "from gtts import gTTS\n",
    "import os\n",
    "\n",
    "def text_to_audio(string):\n",
    "    language = 'en'\n",
    "    myobj = gTTS(text=string, lang=language, slow=False)\n",
    "    myobj.save(\"audio.mp3\")"
   ]
  },
  {
   "cell_type": "code",
   "execution_count": 12,
   "id": "3bb0b988",
   "metadata": {},
   "outputs": [],
   "source": [
    "text_to_audio(\"Hello vivek sir\")"
   ]
  }
 ],
 "metadata": {
  "interpreter": {
   "hash": "17d3c47e01c8d2d87d9e93381cd0429c120a0f22dbe405c98032296d31d00ceb"
  },
  "kernelspec": {
   "display_name": "SignTech",
   "language": "python",
   "name": "signtech"
  },
  "language_info": {
   "codemirror_mode": {
    "name": "ipython",
    "version": 3
   },
   "file_extension": ".py",
   "mimetype": "text/x-python",
   "name": "python",
   "nbconvert_exporter": "python",
   "pygments_lexer": "ipython3",
   "version": "3.9.6"
  }
 },
 "nbformat": 4,
 "nbformat_minor": 5
}
